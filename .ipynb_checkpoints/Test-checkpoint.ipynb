{
 "cells": [
  {
   "cell_type": "markdown",
   "metadata": {
    "slideshow": {
     "slide_type": "slide"
    }
   },
   "source": [
    "# Hello, APCS!\n",
    "\n",
    "This is how we'll take notes.\n",
    "\n",
    "Run some code below."
   ]
  },
  {
   "cell_type": "code",
   "execution_count": 7,
   "metadata": {
    "slideshow": {
     "slide_type": "subslide"
    }
   },
   "outputs": [
    {
     "name": "stdout",
     "output_type": "stream",
     "text": [
      "Hello, world!\n"
     ]
    }
   ],
   "source": [
    "System.out.println(\"Hello, world!\");"
   ]
  },
  {
   "cell_type": "code",
   "execution_count": 8,
   "metadata": {
    "slideshow": {
     "slide_type": "fragment"
    }
   },
   "outputs": [
    {
     "name": "stdout",
     "output_type": "stream",
     "text": [
      "   1   2   3   4   5   6   7   8   9  10\n",
      "       4   6   8  10  12  14  16  18  20\n",
      "           9  12  15  18  21  24  27  30\n",
      "              16  20  24  28  32  36  40\n",
      "                  25  30  35  40  45  50\n",
      "                      36  42  48  54  60\n",
      "                          49  56  63  70\n",
      "                              64  72  80\n",
      "                                  81  90\n",
      "                                     100\n"
     ]
    }
   ],
   "source": [
    "int n = 10;\n",
    "for(int i=0; i<n;i++){\n",
    "    for(int j = 0; j < n; j++){\n",
    "        if(i<=j) System.out.printf(\"%4d\", (i+1)*(j+1));\n",
    "        else System.out.printf(\"    \");\n",
    "    }\n",
    "    System.out.println();\n",
    "}"
   ]
  },
  {
   "cell_type": "code",
   "execution_count": 9,
   "metadata": {
    "slideshow": {
     "slide_type": "slide"
    }
   },
   "outputs": [],
   "source": [
    "public class Test{\n",
    "    public static void main(String[] args){\n",
    "        System.out.println(\"Test\");\n",
    "    }\n",
    "    \n",
    "    public static void printLines(int n){\n",
    "        for(int i=0;i<n;i++){\n",
    "            System.out.printf(\"Line %d%n\", i);\n",
    "        }\n",
    "    }\n",
    "}"
   ]
  },
  {
   "cell_type": "code",
   "execution_count": 10,
   "metadata": {
    "slideshow": {
     "slide_type": "subslide"
    }
   },
   "outputs": [
    {
     "name": "stdout",
     "output_type": "stream",
     "text": [
      "Test\n",
      "Line 0\n",
      "Line 1\n",
      "Line 2\n",
      "Line 3\n",
      "Line 4\n",
      "Line 5\n",
      "Line 6\n",
      "Line 7\n",
      "Line 8\n",
      "Line 9\n",
      "Line 10\n",
      "Line 11\n",
      "Line 12\n",
      "Line 13\n",
      "Line 14\n",
      "Line 15\n",
      "Line 16\n",
      "Line 17\n",
      "Line 18\n",
      "Line 19\n",
      "Line 20\n",
      "Line 21\n",
      "Line 22\n",
      "Line 23\n",
      "Line 24\n"
     ]
    }
   ],
   "source": [
    "Test t = new Test();\n",
    "t.main(new String[0]);\n",
    "t.printLines(25);"
   ]
  },
  {
   "cell_type": "code",
   "execution_count": null,
   "metadata": {},
   "outputs": [],
   "source": []
  },
  {
   "cell_type": "code",
   "execution_count": null,
   "metadata": {},
   "outputs": [],
   "source": []
  }
 ],
 "metadata": {
  "celltoolbar": "Slideshow",
  "kernelspec": {
   "display_name": "Java",
   "language": "java",
   "name": "java"
  },
  "language_info": {
   "codemirror_mode": "java",
   "file_extension": ".jshell",
   "mimetype": "text/x-java-source",
   "name": "Java",
   "pygments_lexer": "java",
   "version": "14.0.1+7"
  }
 },
 "nbformat": 4,
 "nbformat_minor": 4
}
