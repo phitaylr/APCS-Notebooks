{
 "cells": [
  {
   "cell_type": "markdown",
   "metadata": {},
   "source": [
    "# Hello, APCS!\n",
    "\n",
    "This is how we'll take notes.\n",
    "\n",
    "Run some code below."
   ]
  },
  {
   "cell_type": "code",
   "execution_count": 1,
   "metadata": {},
   "outputs": [
    {
     "name": "stdout",
     "output_type": "stream",
     "text": [
      "Hello, world!\n"
     ]
    }
   ],
   "source": [
    "System.out.println(\"Hello, world!\");"
   ]
  },
  {
   "cell_type": "code",
   "execution_count": 17,
   "metadata": {},
   "outputs": [
    {
     "name": "stdout",
     "output_type": "stream",
     "text": [
      "   1   2   3   4   5   6   7   8   9  10\n",
      "       4   6   8  10  12  14  16  18  20\n",
      "           9  12  15  18  21  24  27  30\n",
      "              16  20  24  28  32  36  40\n",
      "                  25  30  35  40  45  50\n",
      "                      36  42  48  54  60\n",
      "                          49  56  63  70\n",
      "                              64  72  80\n",
      "                                  81  90\n",
      "                                     100\n"
     ]
    }
   ],
   "source": [
    "int n = 10;\n",
    "for(int i=0; i<n;i++){\n",
    "    for(int j = 0; j < n; j++){\n",
    "        if(i<=j) System.out.printf(\"%4d\", (i+1)*(j+1));\n",
    "        else System.out.printf(\"    \");\n",
    "    }\n",
    "    System.out.println();\n",
    "}"
   ]
  },
  {
   "cell_type": "code",
   "execution_count": 18,
   "metadata": {},
   "outputs": [],
   "source": [
    "public class Test{\n",
    "    public static void main(String[] args){\n",
    "        System.out.println(\"Test\");\n",
    "    }\n",
    "}"
   ]
  },
  {
   "cell_type": "code",
   "execution_count": 25,
   "metadata": {},
   "outputs": [],
   "source": [
    "Test t = new Test();"
   ]
  },
  {
   "cell_type": "code",
   "execution_count": 26,
   "metadata": {},
   "outputs": [
    {
     "name": "stdout",
     "output_type": "stream",
     "text": [
      "Test\n"
     ]
    }
   ],
   "source": [
    "t.main(new String[0]);"
   ]
  },
  {
   "cell_type": "code",
   "execution_count": null,
   "metadata": {},
   "outputs": [],
   "source": []
  }
 ],
 "metadata": {
  "kernelspec": {
   "display_name": "Java",
   "language": "java",
   "name": "java"
  },
  "language_info": {
   "codemirror_mode": "java",
   "file_extension": ".jshell",
   "mimetype": "text/x-java-source",
   "name": "Java",
   "pygments_lexer": "java",
   "version": "14.0.1+7"
  }
 },
 "nbformat": 4,
 "nbformat_minor": 4
}
